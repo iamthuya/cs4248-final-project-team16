{
  "cells": [
    {
      "cell_type": "code",
      "execution_count": null,
      "metadata": {
        "colab": {
          "base_uri": "https://localhost:8080/"
        },
        "id": "GJW1Dsw38ljT",
        "outputId": "cf89fac2-e2a5-4991-9abd-73735a6843e9"
      },
      "outputs": [
        {
          "name": "stdout",
          "output_type": "stream",
          "text": [
            "Collecting contractions\n",
            "  Downloading contractions-0.1.68-py2.py3-none-any.whl (8.1 kB)\n",
            "Collecting textsearch>=0.0.21\n",
            "  Downloading textsearch-0.0.21-py2.py3-none-any.whl (7.5 kB)\n",
            "Collecting pyahocorasick\n",
            "  Downloading pyahocorasick-1.4.4-cp37-cp37m-manylinux_2_17_x86_64.manylinux2014_x86_64.whl (106 kB)\n",
            "\u001b[K     |████████████████████████████████| 106 kB 4.2 MB/s \n",
            "\u001b[?25hCollecting anyascii\n",
            "  Downloading anyascii-0.3.0-py3-none-any.whl (284 kB)\n",
            "\u001b[K     |████████████████████████████████| 284 kB 17.5 MB/s \n",
            "\u001b[?25hInstalling collected packages: pyahocorasick, anyascii, textsearch, contractions\n",
            "Successfully installed anyascii-0.3.0 contractions-0.1.68 pyahocorasick-1.4.4 textsearch-0.0.21\n",
            "Requirement already satisfied: textsearch in /usr/local/lib/python3.7/dist-packages (0.0.21)\n",
            "Requirement already satisfied: anyascii in /usr/local/lib/python3.7/dist-packages (from textsearch) (0.3.0)\n",
            "Requirement already satisfied: pyahocorasick in /usr/local/lib/python3.7/dist-packages (from textsearch) (1.4.4)\n",
            "Requirement already satisfied: tqdm in /usr/local/lib/python3.7/dist-packages (4.63.0)\n",
            "[nltk_data] Downloading package punkt to /root/nltk_data...\n",
            "[nltk_data]   Unzipping tokenizers/punkt.zip.\n"
          ]
        }
      ],
      "source": [
        "!pip install contractions\n",
        "!pip install textsearch\n",
        "!pip install tqdm\n",
        "import nltk\n",
        "nltk.download('punkt')\n",
        "import pandas as pd\n",
        "from google.colab import drive\n",
        "import tensorflow as tf\n",
        "import numpy as np\n",
        "from tensorflow.keras.models import Sequential\n",
        "from tensorflow.keras.layers import Dense\n",
        "from tensorflow.keras.layers import Flatten\n",
        "from tensorflow.keras.layers import Conv1D\n",
        "from tensorflow.keras.layers import MaxPooling1D\n",
        "from tensorflow.keras.layers import Embedding\n",
        "from tensorflow.keras.layers import LSTM\n",
        "from tensorflow.keras.layers import Attention\n",
        "from tensorflow.keras.layers import SpatialDropout1D\n",
        "from tensorflow.keras.preprocessing.text import Tokenizer\n",
        "from tensorflow.keras.preprocessing import sequence\n",
        "from sklearn.preprocessing import LabelEncoder\n",
        "\n",
        "\n",
        "# fix random seed for reproducibility\n",
        "seed = 42\n",
        "np.random.seed(seed)"
      ]
    },
    {
      "cell_type": "code",
      "execution_count": null,
      "metadata": {
        "colab": {
          "base_uri": "https://localhost:8080/"
        },
        "id": "TgDUX_a8CaEi",
        "outputId": "34c86d40-70fe-4e83-cb9f-a2433e7e3c25"
      },
      "outputs": [
        {
          "name": "stdout",
          "output_type": "stream",
          "text": [
            "Mounted at /content/drive\n"
          ]
        }
      ],
      "source": [
        "drive.mount(\"/content/drive\")"
      ]
    },
    {
      "cell_type": "code",
      "execution_count": null,
      "metadata": {
        "colab": {
          "base_uri": "https://localhost:8080/"
        },
        "id": "ohnPWJ3dCkTK",
        "outputId": "2fd3f851-3a4c-4508-8c38-558a8aa88793"
      },
      "outputs": [
        {
          "data": {
            "text/plain": [
              "(48854, 2)"
            ]
          },
          "execution_count": 3,
          "metadata": {},
          "output_type": "execute_result"
        }
      ],
      "source": [
        "file_path = '/content/drive/MyDrive/CS4248/fulltrain.csv'\n",
        "\n",
        "colnames=['Label', 'Text'] \n",
        "df = pd.read_csv(file_path, names=colnames, header=None)\n",
        "df.shape"
      ]
    },
    {
      "cell_type": "code",
      "execution_count": null,
      "metadata": {
        "colab": {
          "base_uri": "https://localhost:8080/"
        },
        "id": "plR7l-wONK-E",
        "outputId": "2a05854d-7fc3-4148-e5c2-428e84170ef7"
      },
      "outputs": [
        {
          "data": {
            "text/html": [
              "\n",
              "  <div id=\"df-4390ffed-706b-4dfc-b1de-dae129ef0cde\">\n",
              "    <div class=\"colab-df-container\">\n",
              "      <div>\n",
              "<style scoped>\n",
              "    .dataframe tbody tr th:only-of-type {\n",
              "        vertical-align: middle;\n",
              "    }\n",
              "\n",
              "    .dataframe tbody tr th {\n",
              "        vertical-align: top;\n",
              "    }\n",
              "\n",
              "    .dataframe thead th {\n",
              "        text-align: right;\n",
              "    }\n",
              "</style>\n",
              "<table border=\"1\" class=\"dataframe\">\n",
              "  <thead>\n",
              "    <tr style=\"text-align: right;\">\n",
              "      <th></th>\n",
              "      <th>Label</th>\n",
              "      <th>Text</th>\n",
              "    </tr>\n",
              "  </thead>\n",
              "  <tbody>\n",
              "    <tr>\n",
              "      <th>14019</th>\n",
              "      <td>1</td>\n",
              "      <td>According to witnesses at your old high school...</td>\n",
              "    </tr>\n",
              "    <tr>\n",
              "      <th>44568</th>\n",
              "      <td>4</td>\n",
              "      <td>The National Immigration Agency (NIA) announce...</td>\n",
              "    </tr>\n",
              "    <tr>\n",
              "      <th>43613</th>\n",
              "      <td>4</td>\n",
              "      <td>The enforcement division of the Securities and...</td>\n",
              "    </tr>\n",
              "    <tr>\n",
              "      <th>2213</th>\n",
              "      <td>1</td>\n",
              "      <td>In an effort to bolster its flagging ratings, ...</td>\n",
              "    </tr>\n",
              "    <tr>\n",
              "      <th>17804</th>\n",
              "      <td>2</td>\n",
              "      <td>Sarah Palin Makes Tragically Heartbreaking New...</td>\n",
              "    </tr>\n",
              "    <tr>\n",
              "      <th>...</th>\n",
              "      <td>...</td>\n",
              "      <td>...</td>\n",
              "    </tr>\n",
              "    <tr>\n",
              "      <th>11284</th>\n",
              "      <td>1</td>\n",
              "      <td>In a breakthrough study that experts say compl...</td>\n",
              "    </tr>\n",
              "    <tr>\n",
              "      <th>44732</th>\n",
              "      <td>4</td>\n",
              "      <td>Beijing Olympic bronze medallists China rallie...</td>\n",
              "    </tr>\n",
              "    <tr>\n",
              "      <th>38158</th>\n",
              "      <td>3</td>\n",
              "      <td>Broken MonitorsYoutube</td>\n",
              "    </tr>\n",
              "    <tr>\n",
              "      <th>860</th>\n",
              "      <td>1</td>\n",
              "      <td>Saying that hell just have to put [his] head d...</td>\n",
              "    </tr>\n",
              "    <tr>\n",
              "      <th>15795</th>\n",
              "      <td>2</td>\n",
              "      <td>U.S. Born Muslim Who Left America To Join ISIS...</td>\n",
              "    </tr>\n",
              "  </tbody>\n",
              "</table>\n",
              "<p>48854 rows × 2 columns</p>\n",
              "</div>\n",
              "      <button class=\"colab-df-convert\" onclick=\"convertToInteractive('df-4390ffed-706b-4dfc-b1de-dae129ef0cde')\"\n",
              "              title=\"Convert this dataframe to an interactive table.\"\n",
              "              style=\"display:none;\">\n",
              "        \n",
              "  <svg xmlns=\"http://www.w3.org/2000/svg\" height=\"24px\"viewBox=\"0 0 24 24\"\n",
              "       width=\"24px\">\n",
              "    <path d=\"M0 0h24v24H0V0z\" fill=\"none\"/>\n",
              "    <path d=\"M18.56 5.44l.94 2.06.94-2.06 2.06-.94-2.06-.94-.94-2.06-.94 2.06-2.06.94zm-11 1L8.5 8.5l.94-2.06 2.06-.94-2.06-.94L8.5 2.5l-.94 2.06-2.06.94zm10 10l.94 2.06.94-2.06 2.06-.94-2.06-.94-.94-2.06-.94 2.06-2.06.94z\"/><path d=\"M17.41 7.96l-1.37-1.37c-.4-.4-.92-.59-1.43-.59-.52 0-1.04.2-1.43.59L10.3 9.45l-7.72 7.72c-.78.78-.78 2.05 0 2.83L4 21.41c.39.39.9.59 1.41.59.51 0 1.02-.2 1.41-.59l7.78-7.78 2.81-2.81c.8-.78.8-2.07 0-2.86zM5.41 20L4 18.59l7.72-7.72 1.47 1.35L5.41 20z\"/>\n",
              "  </svg>\n",
              "      </button>\n",
              "      \n",
              "  <style>\n",
              "    .colab-df-container {\n",
              "      display:flex;\n",
              "      flex-wrap:wrap;\n",
              "      gap: 12px;\n",
              "    }\n",
              "\n",
              "    .colab-df-convert {\n",
              "      background-color: #E8F0FE;\n",
              "      border: none;\n",
              "      border-radius: 50%;\n",
              "      cursor: pointer;\n",
              "      display: none;\n",
              "      fill: #1967D2;\n",
              "      height: 32px;\n",
              "      padding: 0 0 0 0;\n",
              "      width: 32px;\n",
              "    }\n",
              "\n",
              "    .colab-df-convert:hover {\n",
              "      background-color: #E2EBFA;\n",
              "      box-shadow: 0px 1px 2px rgba(60, 64, 67, 0.3), 0px 1px 3px 1px rgba(60, 64, 67, 0.15);\n",
              "      fill: #174EA6;\n",
              "    }\n",
              "\n",
              "    [theme=dark] .colab-df-convert {\n",
              "      background-color: #3B4455;\n",
              "      fill: #D2E3FC;\n",
              "    }\n",
              "\n",
              "    [theme=dark] .colab-df-convert:hover {\n",
              "      background-color: #434B5C;\n",
              "      box-shadow: 0px 1px 3px 1px rgba(0, 0, 0, 0.15);\n",
              "      filter: drop-shadow(0px 1px 2px rgba(0, 0, 0, 0.3));\n",
              "      fill: #FFFFFF;\n",
              "    }\n",
              "  </style>\n",
              "\n",
              "      <script>\n",
              "        const buttonEl =\n",
              "          document.querySelector('#df-4390ffed-706b-4dfc-b1de-dae129ef0cde button.colab-df-convert');\n",
              "        buttonEl.style.display =\n",
              "          google.colab.kernel.accessAllowed ? 'block' : 'none';\n",
              "\n",
              "        async function convertToInteractive(key) {\n",
              "          const element = document.querySelector('#df-4390ffed-706b-4dfc-b1de-dae129ef0cde');\n",
              "          const dataTable =\n",
              "            await google.colab.kernel.invokeFunction('convertToInteractive',\n",
              "                                                     [key], {});\n",
              "          if (!dataTable) return;\n",
              "\n",
              "          const docLinkHtml = 'Like what you see? Visit the ' +\n",
              "            '<a target=\"_blank\" href=https://colab.research.google.com/notebooks/data_table.ipynb>data table notebook</a>'\n",
              "            + ' to learn more about interactive tables.';\n",
              "          element.innerHTML = '';\n",
              "          dataTable['output_type'] = 'display_data';\n",
              "          await google.colab.output.renderOutput(dataTable, element);\n",
              "          const docLink = document.createElement('div');\n",
              "          docLink.innerHTML = docLinkHtml;\n",
              "          element.appendChild(docLink);\n",
              "        }\n",
              "      </script>\n",
              "    </div>\n",
              "  </div>\n",
              "  "
            ],
            "text/plain": [
              "       Label                                               Text\n",
              "14019      1  According to witnesses at your old high school...\n",
              "44568      4  The National Immigration Agency (NIA) announce...\n",
              "43613      4  The enforcement division of the Securities and...\n",
              "2213       1  In an effort to bolster its flagging ratings, ...\n",
              "17804      2  Sarah Palin Makes Tragically Heartbreaking New...\n",
              "...      ...                                                ...\n",
              "11284      1  In a breakthrough study that experts say compl...\n",
              "44732      4  Beijing Olympic bronze medallists China rallie...\n",
              "38158      3                            Broken MonitorsYoutube \n",
              "860        1  Saying that hell just have to put [his] head d...\n",
              "15795      2  U.S. Born Muslim Who Left America To Join ISIS...\n",
              "\n",
              "[48854 rows x 2 columns]"
            ]
          },
          "execution_count": 4,
          "metadata": {},
          "output_type": "execute_result"
        }
      ],
      "source": [
        "df.sample(frac=1)"
      ]
    },
    {
      "cell_type": "code",
      "execution_count": null,
      "metadata": {
        "id": "V6BiFLtFMQJp"
      },
      "outputs": [],
      "source": [
        "from sklearn.model_selection import train_test_split\n",
        "\n",
        "X = df['Text']\n",
        "y = df['Label']\n",
        "\n",
        "X_train, X_test, y_train, y_test = train_test_split(X, y, test_size=0.2, random_state=18)"
      ]
    },
    {
      "cell_type": "code",
      "execution_count": null,
      "metadata": {
        "id": "7g0Zt8YiKeVX"
      },
      "outputs": [],
      "source": [
        "import contractions\n",
        "from bs4 import BeautifulSoup\n",
        "import numpy as np\n",
        "import re\n",
        "import tqdm\n",
        "import unicodedata\n",
        "\n",
        "\n",
        "def strip_html_tags(text):\n",
        "  soup = BeautifulSoup(text, \"html.parser\")\n",
        "  [s.extract() for s in soup(['iframe', 'script'])]\n",
        "  stripped_text = soup.get_text()\n",
        "  stripped_text = re.sub(r'[\\r|\\n|\\r\\n]+', '\\n', stripped_text)\n",
        "  return stripped_text\n",
        "\n",
        "def remove_accented_chars(text):\n",
        "  text = unicodedata.normalize('NFKD', text).encode('ascii', 'ignore').decode('utf-8', 'ignore')\n",
        "  return text\n",
        "\n",
        "def pre_process_corpus(docs):\n",
        "  norm_docs = []\n",
        "  for doc in tqdm.tqdm(docs):\n",
        "    # doc = strip_html_tags(doc)\n",
        "    # doc = doc.translate(doc.maketrans(\"\\n\\t\\r\", \"   \"))\n",
        "    doc = doc.lower()\n",
        "    # doc = remove_accented_chars(doc)\n",
        "    # doc = contractions.fix(doc)\n",
        "    # lower case and remove special characters\\whitespaces\n",
        "    # doc = re.sub(r'[^a-zA-Z0-9\\s]', '', doc, re.I|re.A)\n",
        "    # doc = re.sub(' +', ' ', doc)\n",
        "    doc = doc.strip()  \n",
        "    norm_docs.append(doc)\n",
        "  \n",
        "  return norm_docs"
      ]
    },
    {
      "cell_type": "code",
      "execution_count": null,
      "metadata": {
        "colab": {
          "base_uri": "https://localhost:8080/"
        },
        "id": "5Gf3y6L5KtFT",
        "outputId": "e705b3c8-22e2-4dce-f2d2-94b5ad7d2854"
      },
      "outputs": [
        {
          "name": "stderr",
          "output_type": "stream",
          "text": [
            "100%|██████████| 39083/39083 [00:00<00:00, 278782.84it/s]\n",
            "100%|██████████| 9771/9771 [00:00<00:00, 273733.41it/s]\n"
          ]
        }
      ],
      "source": [
        "norm_train_reviews = pre_process_corpus(X_train.values)\n",
        "norm_test_reviews = pre_process_corpus(X_test.values)"
      ]
    },
    {
      "cell_type": "code",
      "execution_count": null,
      "metadata": {
        "id": "Xt8YsRhrK0uu"
      },
      "outputs": [],
      "source": [
        "t = Tokenizer(oov_token='<UNK>')\n",
        "# fit the tokenizer on the documents\n",
        "t.fit_on_texts(norm_train_reviews)\n",
        "t.word_index['<PAD>'] = 0"
      ]
    },
    {
      "cell_type": "code",
      "execution_count": null,
      "metadata": {
        "colab": {
          "base_uri": "https://localhost:8080/"
        },
        "id": "sih2QhH7K3eQ",
        "outputId": "ae546475-50b3-4ba6-d3b0-81ffcd073e67"
      },
      "outputs": [
        {
          "data": {
            "text/plain": [
              "(('recalculations', 228186), ('<PAD>', 0), 1)"
            ]
          },
          "execution_count": 9,
          "metadata": {},
          "output_type": "execute_result"
        }
      ],
      "source": [
        "max([(k, v) for k, v in t.word_index.items()], key = lambda x:x[1]), min([(k, v) for k, v in t.word_index.items()], key = lambda x:x[1]), t.word_index['<UNK>']"
      ]
    },
    {
      "cell_type": "code",
      "execution_count": null,
      "metadata": {
        "colab": {
          "base_uri": "https://localhost:8080/"
        },
        "id": "nsNlBw-ZK6QY",
        "outputId": "eb771a70-8b70-4be6-9a5a-b37a5e7f10bc"
      },
      "outputs": [
        {
          "name": "stdout",
          "output_type": "stream",
          "text": [
            "Vocabulary size=228187\n",
            "Number of Documents=39083\n"
          ]
        }
      ],
      "source": [
        "train_sequences = t.texts_to_sequences(norm_train_reviews)\n",
        "print(\"Vocabulary size={}\".format(len(t.word_index)))\n",
        "print(\"Number of Documents={}\".format(t.document_count))"
      ]
    },
    {
      "cell_type": "code",
      "execution_count": null,
      "metadata": {
        "id": "fh8uUdGLNjxi"
      },
      "outputs": [],
      "source": [
        "test_sequences = t.texts_to_sequences(norm_test_reviews)"
      ]
    },
    {
      "cell_type": "code",
      "execution_count": null,
      "metadata": {
        "colab": {
          "base_uri": "https://localhost:8080/",
          "height": 378
        },
        "id": "XT3nvVIqLAEP",
        "outputId": "b43a663a-dd95-4d17-9aeb-da9fc19e6a1b"
      },
      "outputs": [
        {
          "data": {
            "image/png": "[encoded data removed]",
            "text/plain": [
              "<Figure size 864x432 with 2 Axes>"
            ]
          },
          "metadata": {},
          "output_type": "display_data"
        }
      ],
      "source": [
        "import matplotlib.pyplot as plt\n",
        "%matplotlib inline\n",
        "\n",
        "train_lens = [len(s) for s in train_sequences]\n",
        "test_lens = [len(s) for s in test_sequences]\n",
        "\n",
        "fig, ax = plt.subplots(1,2, figsize=(12, 6))\n",
        "h1 = ax[0].hist(train_lens)\n",
        "h1 = ax[1].hist(test_lens)"
      ]
    },
    {
      "cell_type": "code",
      "execution_count": null,
      "metadata": {
        "colab": {
          "base_uri": "https://localhost:8080/"
        },
        "id": "f2ALbRBtLM-3",
        "outputId": "c22505c8-c948-4a0f-a74e-d05e35ee4ace"
      },
      "outputs": [
        {
          "data": {
            "text/plain": [
              "((39083, 1000), (9771, 1000))"
            ]
          },
          "execution_count": 13,
          "metadata": {},
          "output_type": "execute_result"
        }
      ],
      "source": [
        "MAX_SEQUENCE_LENGTH = 1000\n",
        "\n",
        "# pad dataset to a maximum review length in words\n",
        "X_train = sequence.pad_sequences(train_sequences, maxlen=MAX_SEQUENCE_LENGTH)\n",
        "X_test = sequence.pad_sequences(test_sequences, maxlen=MAX_SEQUENCE_LENGTH)\n",
        "X_train.shape, X_test.shape"
      ]
    },
    {
      "cell_type": "code",
      "execution_count": null,
      "metadata": {
        "id": "EeuMihC9LTLN"
      },
      "outputs": [],
      "source": [
        "le = LabelEncoder()\n",
        "num_classes=4 # positive -> 1, negative -> 0\n",
        "\n",
        "y_train = le.fit_transform(y_train)\n",
        "y_test = le.transform(y_test)"
      ]
    },
    {
      "cell_type": "code",
      "execution_count": null,
      "metadata": {
        "id": "_D7rPhVtLeOX"
      },
      "outputs": [],
      "source": [
        "VOCAB_SIZE = len(t.word_index)"
      ]
    },
    {
      "cell_type": "code",
      "execution_count": null,
      "metadata": {
        "id": "BTogMkDULf2s"
      },
      "outputs": [],
      "source": [
        "EMBED_SIZE = 300\n",
        "EPOCHS=10\n",
        "BATCH_SIZE=128"
      ]
    },
    {
      "cell_type": "code",
      "execution_count": null,
      "metadata": {
        "colab": {
          "base_uri": "https://localhost:8080/"
        },
        "id": "PmcmmKSILhSc",
        "outputId": "621c9451-535f-4383-f12b-41a2fe77efd4"
      },
      "outputs": [
        {
          "name": "stdout",
          "output_type": "stream",
          "text": [
            "WARNING:tensorflow:Layer lstm will not use cuDNN kernels since it doesn't meet the criteria. It will use a generic GPU kernel as fallback when running on GPU.\n",
            "Model: \"sequential\"\n",
            "_________________________________________________________________\n",
            " Layer (type)                Output Shape              Param #   \n",
            "=================================================================\n",
            " embedding (Embedding)       (None, 1000, 300)         68456100  \n",
            "                                                                 \n",
            " spatial_dropout1d (SpatialD  (None, 1000, 300)        0         \n",
            " ropout1D)                                                       \n",
            "                                                                 \n",
            " lstm (LSTM)                 (None, 100)               160400    \n",
            "                                                                 \n",
            " dense (Dense)               (None, 256)               25856     \n",
            "                                                                 \n",
            " dense_1 (Dense)             (None, 4)                 1028      \n",
            "                                                                 \n",
            "=================================================================\n",
            "Total params: 68,643,384\n",
            "Trainable params: 68,643,384\n",
            "Non-trainable params: 0\n",
            "_________________________________________________________________\n"
          ]
        }
      ],
      "source": [
        "# create the model\n",
        "model = Sequential()\n",
        "model.add(Embedding(VOCAB_SIZE, EMBED_SIZE, input_length=MAX_SEQUENCE_LENGTH))\n",
        "\n",
        "model.add(SpatialDropout1D(0.2))\n",
        "model.add(LSTM(100, dropout=0.2, recurrent_dropout=0.2, return_sequences=False))\n",
        "model.add(Dense(256, activation='tanh'))\n",
        "model.add(Dense(4, activation='softmax'))\n",
        "model.compile(loss='sparse_categorical_crossentropy', optimizer=tf.keras.optimizers.Adam(learning_rate=1e-3), metrics=['accuracy', tf.keras.metrics.SparseCategoricalAccuracy(), tf.keras.metrics.SparseCategoricalCrossentropy()])\n",
        "model.summary()"
      ]
    },
    {
      "cell_type": "code",
      "execution_count": null,
      "metadata": {
        "colab": {
          "base_uri": "https://localhost:8080/"
        },
        "id": "eTELyTQOLkig",
        "outputId": "405022a2-ec00-4eff-b1f9-1249f5e29d25"
      },
      "outputs": [
        {
          "name": "stdout",
          "output_type": "stream",
          "text": [
            "Epoch 1/10\n",
            "275/275 [==============================] - 985s 4s/step - loss: 0.3988 - accuracy: 0.8461 - sparse_categorical_accuracy: 0.8461 - sparse_categorical_crossentropy: 0.3988 - val_loss: 0.2323 - val_accuracy: 0.9204 - val_sparse_categorical_accuracy: 0.9204 - val_sparse_categorical_crossentropy: 0.2323\n",
            "Epoch 2/10\n",
            "275/275 [==============================] - 973s 4s/step - loss: 0.1171 - accuracy: 0.9622 - sparse_categorical_accuracy: 0.9622 - sparse_categorical_crossentropy: 0.1171 - val_loss: 0.2953 - val_accuracy: 0.9230 - val_sparse_categorical_accuracy: 0.9230 - val_sparse_categorical_crossentropy: 0.2953\n",
            "Epoch 3/10\n",
            "275/275 [==============================] - 970s 4s/step - loss: 0.0538 - accuracy: 0.9842 - sparse_categorical_accuracy: 0.9842 - sparse_categorical_crossentropy: 0.0538 - val_loss: 0.1762 - val_accuracy: 0.9468 - val_sparse_categorical_accuracy: 0.9468 - val_sparse_categorical_crossentropy: 0.1762\n",
            "Epoch 4/10\n",
            "275/275 [==============================] - 965s 4s/step - loss: 0.0338 - accuracy: 0.9904 - sparse_categorical_accuracy: 0.9904 - sparse_categorical_crossentropy: 0.0338 - val_loss: 0.1966 - val_accuracy: 0.9465 - val_sparse_categorical_accuracy: 0.9465 - val_sparse_categorical_crossentropy: 0.1966\n",
            "Epoch 5/10\n",
            "275/275 [==============================] - 963s 4s/step - loss: 0.0496 - accuracy: 0.9839 - sparse_categorical_accuracy: 0.9839 - sparse_categorical_crossentropy: 0.0496 - val_loss: 0.3843 - val_accuracy: 0.8657 - val_sparse_categorical_accuracy: 0.8657 - val_sparse_categorical_crossentropy: 0.3843\n",
            "Epoch 6/10\n",
            "275/275 [==============================] - 943s 3s/step - loss: 0.0343 - accuracy: 0.9891 - sparse_categorical_accuracy: 0.9891 - sparse_categorical_crossentropy: 0.0343 - val_loss: 0.1811 - val_accuracy: 0.9532 - val_sparse_categorical_accuracy: 0.9532 - val_sparse_categorical_crossentropy: 0.1811\n",
            "Epoch 7/10\n",
            "275/275 [==============================] - 943s 3s/step - loss: 0.0112 - accuracy: 0.9968 - sparse_categorical_accuracy: 0.9968 - sparse_categorical_crossentropy: 0.0112 - val_loss: 0.2198 - val_accuracy: 0.9506 - val_sparse_categorical_accuracy: 0.9506 - val_sparse_categorical_crossentropy: 0.2198\n",
            "Epoch 8/10\n",
            "275/275 [==============================] - 937s 3s/step - loss: 0.0229 - accuracy: 0.9933 - sparse_categorical_accuracy: 0.9933 - sparse_categorical_crossentropy: 0.0229 - val_loss: 0.2904 - val_accuracy: 0.9279 - val_sparse_categorical_accuracy: 0.9279 - val_sparse_categorical_crossentropy: 0.2904\n",
            "Epoch 9/10\n",
            "275/275 [==============================] - 916s 3s/step - loss: 0.0112 - accuracy: 0.9970 - sparse_categorical_accuracy: 0.9970 - sparse_categorical_crossentropy: 0.0112 - val_loss: 0.2489 - val_accuracy: 0.9422 - val_sparse_categorical_accuracy: 0.9422 - val_sparse_categorical_crossentropy: 0.2489\n",
            "Epoch 10/10\n",
            "275/275 [==============================] - 911s 3s/step - loss: 0.0061 - accuracy: 0.9985 - sparse_categorical_accuracy: 0.9985 - sparse_categorical_crossentropy: 0.0061 - val_loss: 0.2981 - val_accuracy: 0.9360 - val_sparse_categorical_accuracy: 0.9360 - val_sparse_categorical_crossentropy: 0.2981\n"
          ]
        }
      ],
      "source": [
        "# Fit the model\n",
        "h1 = model.fit(X_train, y_train, \n",
        "          validation_split=0.1,\n",
        "          epochs=EPOCHS, \n",
        "          batch_size=BATCH_SIZE, \n",
        "          verbose=1)"
      ]
    },
    {
      "cell_type": "code",
      "execution_count": null,
      "metadata": {
        "colab": {
          "base_uri": "https://localhost:8080/",
          "height": 333
        },
        "id": "ZuR6-zb_tg1X",
        "outputId": "b122ea4e-fdea-43be-eaf7-4ac58cb3d252"
      },
      "outputs": [
        {
          "name": "stdout",
          "output_type": "stream",
          "text": [
            "dict_keys(['loss', 'accuracy', 'sparse_categorical_accuracy', 'sparse_categorical_crossentropy', 'val_loss', 'val_accuracy', 'val_sparse_categorical_accuracy', 'val_sparse_categorical_crossentropy'])\n"
          ]
        },
        {
          "data": {
            "image/png": "[encoded data removed]",
            "text/plain": [
              "<Figure size 432x288 with 1 Axes>"
            ]
          },
          "metadata": {},
          "output_type": "display_data"
        }
      ],
      "source": [
        "print(h1.history.keys())\n",
        "# summarize history for accuracy\n",
        "plt.plot(h1.history['accuracy'])\n",
        "plt.plot(h1.history['val_accuracy'])\n",
        "plt.title('model accuracy')\n",
        "plt.ylabel('accuracy')\n",
        "plt.xlabel('epoch')\n",
        "plt.legend(['train', 'test'], loc='upper left')\n",
        "plt.savefig('tanh_1e-3.png')"
      ]
    },
    {
      "cell_type": "code",
      "execution_count": null,
      "metadata": {
        "colab": {
          "base_uri": "https://localhost:8080/"
        },
        "id": "c5VP62ogOGMq",
        "outputId": "21810db0-e4a6-49bf-bd97-bcd66e2d0fea"
      },
      "outputs": [
        {
          "name": "stdout",
          "output_type": "stream",
          "text": [
            "306/306 [==============================] - 73s 238ms/step - loss: 0.3046 - accuracy: 0.9311 - sparse_categorical_accuracy: 0.9311 - sparse_categorical_crossentropy: 0.3046\n",
            "Accuracy: 93.11%\n"
          ]
        }
      ],
      "source": [
        "# Final evaluation of the model\n",
        "scores = model.evaluate(X_test, y_test, verbose=1)\n",
        "print(\"Accuracy: %.2f%%\" % (scores[1]*100))"
      ]
    },
    {
      "cell_type": "code",
      "execution_count": null,
      "metadata": {
        "id": "Kxw03VRJtD1x"
      },
      "outputs": [],
      "source": [
        "y_pred = model.predict(X_test)\n",
        "y_pred_label = np.argmax(y_pred, axis=1)\n",
        "\n",
        "from sklearn.metrics import f1_score\n",
        "\n",
        "f1_score(y_test, y_pred_label, average='macro')"
      ]
    },
    {
      "cell_type": "code",
      "execution_count": null,
      "metadata": {
        "colab": {
          "background_save": true,
          "base_uri": "https://localhost:8080/"
        },
        "id": "zw-o8dBvIH5a",
        "outputId": "dc7058d2-af12-4ade-a0d9-b597ffdcc14b"
      },
      "outputs": [
        {
          "name": "stdout",
          "output_type": "stream",
          "text": [
            "WARNING:tensorflow:Layer lstm_2 will not use cuDNN kernels since it doesn't meet the criteria. It will use a generic GPU kernel as fallback when running on GPU.\n",
            "Model: \"sequential_2\"\n",
            "_________________________________________________________________\n",
            " Layer (type)                Output Shape              Param #   \n",
            "=================================================================\n",
            " embedding_2 (Embedding)     (None, 1000, 300)         68456100  \n",
            "                                                                 \n",
            " spatial_dropout1d_2 (Spatia  (None, 1000, 300)        0         \n",
            " lDropout1D)                                                     \n",
            "                                                                 \n",
            " lstm_2 (LSTM)               (None, 100)               160400    \n",
            "                                                                 \n",
            " dense_4 (Dense)             (None, 256)               25856     \n",
            "                                                                 \n",
            " dense_5 (Dense)             (None, 4)                 1028      \n",
            "                                                                 \n",
            "=================================================================\n",
            "Total params: 68,643,384\n",
            "Trainable params: 68,643,384\n",
            "Non-trainable params: 0\n",
            "_________________________________________________________________\n"
          ]
        }
      ],
      "source": [
        "# create the model\n",
        "model2 = Sequential()\n",
        "model2.add(Embedding(VOCAB_SIZE, EMBED_SIZE, input_length=MAX_SEQUENCE_LENGTH))\n",
        "\n",
        "model2.add(SpatialDropout1D(0.2))\n",
        "model2.add(LSTM(100, dropout=0.2, recurrent_dropout=0.2, return_sequences=False, activation='relu'))\n",
        "model2.add(Dense(256, activation='relu'))\n",
        "model2.add(Dense(4, activation='softmax'))\n",
        "model2.compile(loss='sparse_categorical_crossentropy', optimizer=tf.keras.optimizers.Adam(learning_rate=1e-3), metrics=['accuracy', tf.keras.metrics.SparseCategoricalAccuracy(), tf.keras.metrics.SparseCategoricalCrossentropy()])\n",
        "model2.summary()"
      ]
    },
    {
      "cell_type": "code",
      "execution_count": null,
      "metadata": {
        "colab": {
          "background_save": true,
          "base_uri": "https://localhost:8080/"
        },
        "id": "Si2QsIQluvuL",
        "outputId": "f71774f2-8b85-41fa-cad4-642af347d1dd"
      },
      "outputs": [
        {
          "name": "stdout",
          "output_type": "stream",
          "text": [
            "Epoch 1/10\n",
            "275/275 [==============================] - 936s 3s/step - loss: nan - accuracy: 0.2896 - sparse_categorical_accuracy: 0.2896 - sparse_categorical_crossentropy: nan - val_loss: nan - val_accuracy: 0.2952 - val_sparse_categorical_accuracy: 0.2952 - val_sparse_categorical_crossentropy: nan\n",
            "Epoch 2/10\n",
            "275/275 [==============================] - 935s 3s/step - loss: nan - accuracy: 0.2860 - sparse_categorical_accuracy: 0.2860 - sparse_categorical_crossentropy: nan - val_loss: nan - val_accuracy: 0.2952 - val_sparse_categorical_accuracy: 0.2952 - val_sparse_categorical_crossentropy: nan\n",
            "Epoch 3/10\n",
            "275/275 [==============================] - 930s 3s/step - loss: nan - accuracy: 0.2860 - sparse_categorical_accuracy: 0.2860 - sparse_categorical_crossentropy: nan - val_loss: nan - val_accuracy: 0.2952 - val_sparse_categorical_accuracy: 0.2952 - val_sparse_categorical_crossentropy: nan\n",
            "Epoch 4/10\n",
            "275/275 [==============================] - 930s 3s/step - loss: nan - accuracy: 0.2860 - sparse_categorical_accuracy: 0.2860 - sparse_categorical_crossentropy: nan - val_loss: nan - val_accuracy: 0.2952 - val_sparse_categorical_accuracy: 0.2952 - val_sparse_categorical_crossentropy: nan\n",
            "Epoch 5/10\n",
            "275/275 [==============================] - 928s 3s/step - loss: nan - accuracy: 0.2860 - sparse_categorical_accuracy: 0.2860 - sparse_categorical_crossentropy: nan - val_loss: nan - val_accuracy: 0.2952 - val_sparse_categorical_accuracy: 0.2952 - val_sparse_categorical_crossentropy: nan\n",
            "Epoch 6/10\n",
            "275/275 [==============================] - 920s 3s/step - loss: nan - accuracy: 0.2860 - sparse_categorical_accuracy: 0.2860 - sparse_categorical_crossentropy: nan - val_loss: nan - val_accuracy: 0.2952 - val_sparse_categorical_accuracy: 0.2952 - val_sparse_categorical_crossentropy: nan\n",
            "Epoch 7/10\n",
            "275/275 [==============================] - 914s 3s/step - loss: nan - accuracy: 0.2860 - sparse_categorical_accuracy: 0.2860 - sparse_categorical_crossentropy: nan - val_loss: nan - val_accuracy: 0.2952 - val_sparse_categorical_accuracy: 0.2952 - val_sparse_categorical_crossentropy: nan\n",
            "Epoch 8/10\n",
            "275/275 [==============================] - 916s 3s/step - loss: nan - accuracy: 0.2860 - sparse_categorical_accuracy: 0.2860 - sparse_categorical_crossentropy: nan - val_loss: nan - val_accuracy: 0.2952 - val_sparse_categorical_accuracy: 0.2952 - val_sparse_categorical_crossentropy: nan\n",
            "Epoch 9/10\n",
            "275/275 [==============================] - 945s 3s/step - loss: nan - accuracy: 0.2860 - sparse_categorical_accuracy: 0.2860 - sparse_categorical_crossentropy: nan - val_loss: nan - val_accuracy: 0.2952 - val_sparse_categorical_accuracy: 0.2952 - val_sparse_categorical_crossentropy: nan\n",
            "Epoch 10/10\n",
            "275/275 [==============================] - 953s 3s/step - loss: nan - accuracy: 0.2860 - sparse_categorical_accuracy: 0.2860 - sparse_categorical_crossentropy: nan - val_loss: nan - val_accuracy: 0.2952 - val_sparse_categorical_accuracy: 0.2952 - val_sparse_categorical_crossentropy: nan\n"
          ]
        }
      ],
      "source": [
        "# Fit the model\n",
        "h2 = model2.fit(X_train, y_train, \n",
        "          validation_split=0.1,\n",
        "          epochs=EPOCHS, \n",
        "          batch_size=BATCH_SIZE, \n",
        "          verbose=1)"
      ]
    },
    {
      "cell_type": "code",
      "execution_count": null,
      "metadata": {
        "colab": {
          "background_save": true
        },
        "id": "PLy-PnjcvdZo",
        "outputId": "a9266a12-ea81-478e-9cda-39ed079d1afe"
      },
      "outputs": [
        {
          "name": "stdout",
          "output_type": "stream",
          "text": [
            "dict_keys(['loss', 'accuracy', 'sparse_categorical_accuracy', 'sparse_categorical_crossentropy', 'val_loss', 'val_accuracy', 'val_sparse_categorical_accuracy', 'val_sparse_categorical_crossentropy'])\n"
          ]
        },
        {
          "data": {
            "image/png": "[encoded data removed]",
            "text/plain": [
              "<Figure size 432x288 with 1 Axes>"
            ]
          },
          "metadata": {},
          "output_type": "display_data"
        }
      ],
      "source": [
        "print(h2.history.keys())\n",
        "# summarize history for accuracy\n",
        "plt.plot(h2.history['accuracy'])\n",
        "plt.plot(h2.history['val_accuracy'])\n",
        "plt.title('model accuracy')\n",
        "plt.ylabel('accuracy')\n",
        "plt.xlabel('epoch')\n",
        "plt.legend(['train', 'test'], loc='upper left')\n",
        "plt.savefig('tanh_1e-3.png')"
      ]
    },
    {
      "cell_type": "code",
      "execution_count": null,
      "metadata": {
        "id": "Qei22lHVu1Rq"
      },
      "outputs": [],
      "source": [
        "y_pred2 = model2.predict(X_test)\n",
        "y_pred_label2 = np.argmax(y_pred2, axis=1)\n",
        "\n",
        "from sklearn.metrics import f1_score\n",
        "\n",
        "f1_score(y_test, y_pred_label2, average='macro')"
      ]
    },
    {
      "cell_type": "code",
      "execution_count": null,
      "metadata": {
        "id": "5gajcXzvBiPe"
      },
      "outputs": [],
      "source": [
        "# create the model\n",
        "model3 = Sequential()\n",
        "model3.add(Embedding(VOCAB_SIZE, EMBED_SIZE, input_length=MAX_SEQUENCE_LENGTH))\n",
        "\n",
        "model3.add(SpatialDropout1D(0.2))\n",
        "model3.add(LSTM(100, dropout=0.2, recurrent_dropout=0.2, return_sequences=False, activation='tanh'))\n",
        "model3.add(Dense(256, activation='relu'))\n",
        "model3.add(Dense(4, activation='softmax'))\n",
        "model3.compile(loss='sparse_categorical_crossentropy', optimizer=tf.keras.optimizers.Adam(learning_rate=1e-4), metrics=['accuracy', tf.keras.metrics.SparseCategoricalAccuracy(), tf.keras.metrics.SparseCategoricalCrossentropy()])\n",
        "model3.summary()\n",
        "\n",
        "# Fit the model\n",
        "h3 = model3.fit(X_train, y_train, \n",
        "          validation_split=0.1,\n",
        "          epochs=EPOCHS, \n",
        "          batch_size=BATCH_SIZE, \n",
        "          verbose=1)"
      ]
    },
    {
      "cell_type": "code",
      "execution_count": null,
      "metadata": {
        "id": "sQQOWH8kB6hz"
      },
      "outputs": [],
      "source": [
        "y_pred3 = model3.predict(X_test)\n",
        "y_pred_label3 = np.argmax(y_pred3, axis=1)\n",
        "\n",
        "from sklearn.metrics import f1_score\n",
        "\n",
        "f1_score(y_test, y_pred_label3, average='macro')"
      ]
    }
  ],
  "metadata": {
    "accelerator": "GPU",
    "colab": {
      "collapsed_sections": [],
      "machine_shape": "hm",
      "name": "「31/03_project_lstm_nn.ipynb」的副本",
      "provenance": []
    },
    "kernelspec": {
      "display_name": "Python 3",
      "name": "python3"
    },
    "language_info": {
      "name": "python"
    }
  },
  "nbformat": 4,
  "nbformat_minor": 0
}