{
 "cells": [
  {
   "cell_type": "markdown",
   "metadata": {},
   "source": [
    "# Linear Support Vector Classifier"
   ]
  },
  {
   "cell_type": "markdown",
   "metadata": {
    "id": "WmG6sKuafz0k"
   },
   "source": [
    "## Imports"
   ]
  },
  {
   "cell_type": "code",
   "execution_count": 3,
   "metadata": {
    "colab": {
     "base_uri": "https://localhost:8080/"
    },
    "id": "dEMXVta2fm0j",
    "outputId": "bc072538-d902-407b-baed-10fd888b6498"
   },
   "outputs": [
    {
     "name": "stderr",
     "output_type": "stream",
     "text": [
      "[nltk_data] Downloading package punkt to\n",
      "[nltk_data]     /Users/chuameiyun/nltk_data...\n",
      "[nltk_data]   Package punkt is already up-to-date!\n"
     ]
    }
   ],
   "source": [
    "import nltk\n",
    "nltk.download('punkt')\n",
    "import pandas as pd\n",
    "# from google.colab import drive\n",
    "from nltk.tokenize import word_tokenize\n",
    "import re\n",
    "from sklearn.feature_extraction.text import CountVectorizer, TfidfVectorizer\n",
    "from sklearn.model_selection import train_test_split\n",
    "from sklearn.naive_bayes import MultinomialNB\n",
    "from sklearn.svm import LinearSVC\n",
    "from sklearn.calibration import CalibratedClassifierCV\n",
    "from sklearn import svm\n",
    "from sklearn.linear_model import SGDClassifier\n",
    "\n",
    "from joblib import dump, load\n",
    "from sklearn.model_selection import StratifiedShuffleSplit\n",
    "from sklearn.metrics import confusion_matrix, classification_report\n",
    "import matplotlib.pyplot as plt\n",
    "import itertools\n",
    "import numpy as np\n",
    "\n",
    "# fix random seed for reproducibility\n",
    "seed = 42 "
   ]
  },
  {
   "cell_type": "markdown",
   "metadata": {
    "id": "KZJgkhBLgS_k"
   },
   "source": [
    "## Data Loading"
   ]
  },
  {
   "cell_type": "code",
   "execution_count": null,
   "metadata": {
    "colab": {
     "base_uri": "https://localhost:8080/"
    },
    "id": "H_iO8t7VgSp4",
    "outputId": "a8be5cc9-3b5b-4639-cc8e-372372f11d9e"
   },
   "outputs": [
    {
     "name": "stdout",
     "output_type": "stream",
     "text": [
      "Mounted at /content/drive\n"
     ]
    }
   ],
   "source": [
    "drive.mount(\"/content/drive\")\n",
    "file_path = '/content/drive/MyDrive/CS4248/fulltrain.csv'\n",
    "\n",
    "colnames=['Label', 'Text'] \n",
    "df = pd.read_csv(file_path, names=colnames, header=None)"
   ]
  },
  {
   "cell_type": "markdown",
   "metadata": {
    "id": "OqtxlLUjhQw6"
   },
   "source": [
    "## Train-Test Split"
   ]
  },
  {
   "cell_type": "code",
   "execution_count": null,
   "metadata": {
    "id": "zv4p6I54rmLS"
   },
   "outputs": [],
   "source": [
    "split = StratifiedShuffleSplit(n_splits=1, test_size=0.4, random_state=42)\n",
    "for train_index, test_valid_index in split.split(df, df.Label):\n",
    "    train_set = df.iloc[train_index]\n",
    "    test_valid_set = df.iloc[test_valid_index]\n",
    "\n",
    "split2 = StratifiedShuffleSplit(n_splits=1, test_size=0.5, random_state=42)\n",
    "for test_index, valid_index in split2.split(test_valid_set, test_valid_set.Label):\n",
    "    test_set = test_valid_set.iloc[test_index]\n",
    "    valid_set = test_valid_set.iloc[valid_index]"
   ]
  },
  {
   "cell_type": "code",
   "execution_count": null,
   "metadata": {
    "colab": {
     "base_uri": "https://localhost:8080/"
    },
    "id": "q7rF0d9Y0gYH",
    "outputId": "9f38f5fd-44ea-4f11-fd03-4dc75c4d7343"
   },
   "outputs": [
    {
     "data": {
      "text/plain": [
       "3    10722\n",
       "1     8428\n",
       "4     5997\n",
       "2     4165\n",
       "Name: Label, dtype: int64"
      ]
     },
     "execution_count": 7,
     "metadata": {},
     "output_type": "execute_result"
    }
   ],
   "source": [
    "train_set['Label'].value_counts()"
   ]
  },
  {
   "cell_type": "code",
   "execution_count": null,
   "metadata": {
    "id": "d5SpkK76sl_1"
   },
   "outputs": [],
   "source": [
    "X_train = train_set['Text']\n",
    "y_train = train_set['Label']\n",
    "\n",
    "X_val = valid_set['Text']\n",
    "y_val = valid_set['Label']\n",
    "\n",
    "X_test = test_set['Text']\n",
    "y_test = test_set['Label']"
   ]
  },
  {
   "cell_type": "markdown",
   "metadata": {
    "id": "yjobryyVqEQQ"
   },
   "source": [
    "## Steps\n",
    "\n",
    "Preprocessing \n",
    "\n",
    "Feature engineering (tfidf)\n",
    "\n",
    "Model training\n",
    "\n",
    "Prediction\n",
    "\n",
    "Evaluation"
   ]
  },
  {
   "cell_type": "code",
   "execution_count": 4,
   "metadata": {
    "id": "Fipuuj3Ll_Og"
   },
   "outputs": [],
   "source": [
    "# Building Model with pre-processing and feature engineering steps\n",
    "class LanguageDetector():\n",
    "    def __init__(self, classifier=MultinomialNB()):\n",
    "        self.classifier = classifier\n",
    "        self.vectorizer = TfidfVectorizer(lowercase=True, decode_error='ignore', preprocessor=self._preprocessing, ngram_range=(1,2))  # using Tfidf as feature engineering\n",
    "\n",
    "    def _preprocessing(self, document):\n",
    "        noise_pattern = re.compile(\"|\".join([\"http\\S+\", \"\\@\\w+\", \"\\#\\w+\"]))\n",
    "        clean_text = re.sub(noise_pattern, \"\", document)\n",
    "        return clean_text\n",
    "\n",
    "    def features(self, X):\n",
    "        return self.vectorizer.transform(X)\n",
    "\n",
    "    def fit(self, X, y):\n",
    "        self.vectorizer.fit(X) \n",
    "        self.classifier.fit(self.features(X), y)\n",
    "    \n",
    "    def predict_list(self, X):\n",
    "        return self.classifier.predict(self.features(X))\n",
    "\n",
    "    def predict_proba(self, X):\n",
    "        return self.classifier.predict_proba(self.features(X))\n",
    "\n",
    "\n",
    "    def predict(self, x):\n",
    "        return self.classifier.predict(self.features([x]))\n",
    "\n",
    "\n",
    "    def score(self, X, y):\n",
    "        return self.classifier.score(self.features(X), y)\n",
    "\n",
    "    def save_model(self, path):\n",
    "        dump((self.classifier, self.vectorizer), path)\n",
    "\n",
    "    def load_model(self, path):\n",
    "        self.classifier, self.vectorizer = load(path)"
   ]
  },
  {
   "cell_type": "markdown",
   "metadata": {
    "id": "k1rojmr_K0HO"
   },
   "source": [
    "Model Training"
   ]
  },
  {
   "cell_type": "code",
   "execution_count": null,
   "metadata": {
    "colab": {
     "base_uri": "https://localhost:8080/"
    },
    "id": "PCbxEXU7H7jp",
    "outputId": "265aa044-601d-4e9b-de7b-01953d35765c"
   },
   "outputs": [
    {
     "name": "stdout",
     "output_type": "stream",
     "text": [
      "CPU times: user 14 µs, sys: 0 ns, total: 14 µs\n",
      "Wall time: 19.3 µs\n"
     ]
    }
   ],
   "source": [
    "%time\n",
    "SVC_model = LanguageDetector(classifier = CalibratedClassifierCV(LinearSVC()))\n",
    "SVC_model.fit(X_train, y_train)"
   ]
  },
  {
   "cell_type": "code",
   "execution_count": null,
   "metadata": {
    "colab": {
     "base_uri": "https://localhost:8080/"
    },
    "id": "YrcnNMpsJGL1",
    "outputId": "a0fbb69f-dba8-4bd6-c163-a74921432cf1"
   },
   "outputs": [
    {
     "data": {
      "text/plain": [
       "0.9794289223211544"
      ]
     },
     "execution_count": 11,
     "metadata": {},
     "output_type": "execute_result"
    }
   ],
   "source": [
    "SVC_model.score(X_test, y_test)"
   ]
  },
  {
   "cell_type": "markdown",
   "metadata": {
    "id": "V4IV8smtK4rC"
   },
   "source": [
    "Model Prediction"
   ]
  },
  {
   "cell_type": "code",
   "execution_count": null,
   "metadata": {
    "id": "c6s9rr8jKalY"
   },
   "outputs": [],
   "source": [
    "y_test_pred = SVC_model.predict_list(X_test)\n",
    "y_test_pred_softmax = SVC_model.predict_proba(X_test)"
   ]
  },
  {
   "cell_type": "markdown",
   "metadata": {
    "id": "hQoLL31-LK0s"
   },
   "source": [
    "Model Saving"
   ]
  },
  {
   "cell_type": "code",
   "execution_count": null,
   "metadata": {
    "id": "_e6mXYsnK8RN"
   },
   "outputs": [],
   "source": [
    "model_path = \"SVC_model.model\"\n",
    "SVC_model.save_model(model_path)"
   ]
  },
  {
   "cell_type": "markdown",
   "metadata": {
    "id": "gJh5ACnnLq2W"
   },
   "source": [
    "Model Evaluation"
   ]
  },
  {
   "cell_type": "markdown",
   "metadata": {
    "id": "t_T1p2dRQPGk"
   },
   "source": [
    "f1 score"
   ]
  },
  {
   "cell_type": "code",
   "execution_count": null,
   "metadata": {
    "colab": {
     "base_uri": "https://localhost:8080/"
    },
    "id": "hN2kP7veLWtR",
    "outputId": "a62a2db2-98f5-4e62-f12b-36bba31e09b2"
   },
   "outputs": [
    {
     "name": "stdout",
     "output_type": "stream",
     "text": [
      "              precision    recall  f1-score   support\n",
      "\n",
      "     class 0       0.98      0.98      0.98      2809\n",
      "     class 1       0.98      0.98      0.98      1389\n",
      "     class 2       0.98      0.99      0.98      3574\n",
      "     class 3       0.98      0.96      0.97      1999\n",
      "\n",
      "    accuracy                           0.98      9771\n",
      "   macro avg       0.98      0.98      0.98      9771\n",
      "weighted avg       0.98      0.98      0.98      9771\n",
      "\n"
     ]
    }
   ],
   "source": [
    "target_names = ['class 0', 'class 1', 'class 2', 'class 3']\n",
    "print(classification_report(y_test, y_test_pred, target_names=target_names))"
   ]
  },
  {
   "cell_type": "code",
   "execution_count": null,
   "metadata": {
    "colab": {
     "base_uri": "https://localhost:8080/"
    },
    "id": "__-hoIABfRnd",
    "outputId": "5a3281c4-da2d-4300-d034-0b2c825e5d95"
   },
   "outputs": [
    {
     "name": "stdout",
     "output_type": "stream",
     "text": [
      "F1: 0.9787321903494659\n",
      "Accuracy: 0.9794289223211544\n"
     ]
    }
   ],
   "source": [
    "from sklearn import metrics\n",
    "print(f\"F1: {metrics.f1_score(y_test,y_test_pred, average='macro')}\")\n",
    "print(f\"Accuracy: {metrics.accuracy_score(y_test,y_test_pred)}\")"
   ]
  },
  {
   "cell_type": "code",
   "execution_count": null,
   "metadata": {
    "colab": {
     "base_uri": "https://localhost:8080/"
    },
    "id": "5-I_gxuyL6VV",
    "outputId": "cea63352-d8ec-448a-b705-3ba9ab495656"
   },
   "outputs": [
    {
     "name": "stdout",
     "output_type": "stream",
     "text": [
      "[[2749    9   28   23]\n",
      " [   2 1360   21    6]\n",
      " [  11   16 3532   15]\n",
      " [  38    0   32 1929]]\n"
     ]
    }
   ],
   "source": [
    "conf_mat = confusion_matrix(y_test, y_test_pred)\n",
    "print(conf_mat)"
   ]
  },
  {
   "cell_type": "code",
   "execution_count": null,
   "metadata": {
    "colab": {
     "base_uri": "https://localhost:8080/",
     "height": 364
    },
    "id": "dn6zIAutLs7g",
    "outputId": "f1c94bb9-3152-4e0d-ef65-629c070f4bc5"
   },
   "outputs": [
    {
     "data": {
      "image/png": "[encoded data removed]",
      "text/plain": [
       "<Figure size 432x432 with 2 Axes>"
      ]
     },
     "metadata": {},
     "output_type": "display_data"
    }
   ],
   "source": [
    "with plt.style.context(('ggplot', 'seaborn')):\n",
    "    fig = plt.figure(figsize=(6,6), num=1)\n",
    "    plt.imshow(conf_mat, interpolation='nearest',cmap= plt.cm.Blues )\n",
    "    plt.xticks([0,1,2,3],['Satire', 'Hoax', 'Propaganda', 'Reliable'])\n",
    "    plt.yticks([0,1,2,3],['Satire', 'Hoax', 'Propaganda', 'Reliable'])\n",
    "    plt.xlabel('Predicted Label')\n",
    "    plt.ylabel('Actual Label')\n",
    "    for i, j in itertools.product(range(conf_mat.shape[0]), range(conf_mat.shape[1])):\n",
    "                plt.text(j, i,conf_mat[i, j], horizontalalignment=\"center\",color=\"red\")\n",
    "    plt.grid(None)\n",
    "    plt.title('Confusion Matrix')\n",
    "    plt.colorbar();"
   ]
  }
 ],
 "metadata": {
  "colab": {
   "collapsed_sections": [],
   "name": "28/03 OFFICIAL TRANSCRIPT.ipynb",
   "provenance": []
  },
  "kernelspec": {
   "display_name": "Python 3",
   "language": "python",
   "name": "python3"
  },
  "language_info": {
   "codemirror_mode": {
    "name": "ipython",
    "version": 3
   },
   "file_extension": ".py",
   "mimetype": "text/x-python",
   "name": "python",
   "nbconvert_exporter": "python",
   "pygments_lexer": "ipython3",
   "version": "3.7.9"
  }
 },
 "nbformat": 4,
 "nbformat_minor": 1
}
