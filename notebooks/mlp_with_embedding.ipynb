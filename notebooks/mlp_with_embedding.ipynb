{
 "cells": [
  {
   "cell_type": "markdown",
   "metadata": {
    "id": "WmG6sKuafz0k"
   },
   "source": [
    "# Imports"
   ]
  },
  {
   "cell_type": "code",
   "execution_count": 1,
   "metadata": {
    "colab": {
     "base_uri": "https://localhost:8080/"
    },
    "id": "dEMXVta2fm0j",
    "outputId": "f43c5882-22b1-40c8-f858-89f72b82755a"
   },
   "outputs": [
    {
     "name": "stderr",
     "output_type": "stream",
     "text": [
      "[nltk_data] Downloading package punkt to\n",
      "[nltk_data]     C:\\Users\\conta\\AppData\\Roaming\\nltk_data...\n",
      "[nltk_data]   Package punkt is already up-to-date!\n"
     ]
    }
   ],
   "source": [
    "import nltk\n",
    "nltk.download('punkt')\n",
    "import pandas as pd\n",
    "from nltk.tokenize import word_tokenize\n",
    "import re\n",
    "from sklearn.feature_extraction.text import CountVectorizer, TfidfVectorizer\n",
    "from sklearn.model_selection import train_test_split\n",
    "from sklearn.naive_bayes import MultinomialNB\n",
    "from sklearn.svm import LinearSVC\n",
    "from sklearn.calibration import CalibratedClassifierCV\n",
    "from sklearn import svm\n",
    "from sklearn.linear_model import SGDClassifier\n",
    "\n",
    "from joblib import dump, load\n",
    "from sklearn.model_selection import StratifiedShuffleSplit\n",
    "from sklearn.metrics import confusion_matrix, classification_report\n",
    "import matplotlib.pyplot as plt\n",
    "import itertools\n",
    "import numpy as np\n",
    "\n",
    "# fix random seed for reproducibility\n",
    "seed = 42  # change to Thuya's"
   ]
  },
  {
   "cell_type": "code",
   "execution_count": 2,
   "metadata": {},
   "outputs": [],
   "source": [
    "import os\n",
    "\n",
    "from sklearn import preprocessing\n",
    "\n",
    "from tensorflow.keras.preprocessing.text import Tokenizer\n",
    "from tensorflow.keras.preprocessing.sequence import pad_sequences\n",
    "from tensorflow.keras.utils import to_categorical\n",
    "from tensorflow.keras.models import Sequential\n",
    "from tensorflow.keras import layers, optimizers, losses"
   ]
  },
  {
   "cell_type": "markdown",
   "metadata": {
    "id": "KZJgkhBLgS_k"
   },
   "source": [
    "## Data Loading"
   ]
  },
  {
   "cell_type": "code",
   "execution_count": 3,
   "metadata": {
    "colab": {
     "base_uri": "https://localhost:8080/"
    },
    "id": "H_iO8t7VgSp4",
    "outputId": "2c2b2da5-707c-43c6-e44b-84a35d426ed9"
   },
   "outputs": [],
   "source": [
    "file_path = 'data/fulltrain.csv'\n",
    "\n",
    "colnames=['Label', 'Text'] \n",
    "df = pd.read_csv(file_path, names=colnames, header=None)"
   ]
  },
  {
   "cell_type": "markdown",
   "metadata": {
    "id": "OqtxlLUjhQw6"
   },
   "source": [
    "## Split"
   ]
  },
  {
   "cell_type": "code",
   "execution_count": 4,
   "metadata": {
    "id": "zv4p6I54rmLS"
   },
   "outputs": [],
   "source": [
    "split = StratifiedShuffleSplit(n_splits=1, test_size=0.4, random_state=42)\n",
    "for train_index, test_valid_index in split.split(df, df.Label):\n",
    "    train_set = df.iloc[train_index]\n",
    "    test_valid_set = df.iloc[test_valid_index]\n",
    "\n",
    "split2 = StratifiedShuffleSplit(n_splits=1, test_size=0.5, random_state=42)\n",
    "for test_index, valid_index in split2.split(test_valid_set, test_valid_set.Label):\n",
    "    test_set = test_valid_set.iloc[test_index]\n",
    "    valid_set = test_valid_set.iloc[valid_index]"
   ]
  },
  {
   "cell_type": "code",
   "execution_count": 5,
   "metadata": {
    "colab": {
     "base_uri": "https://localhost:8080/"
    },
    "id": "q7rF0d9Y0gYH",
    "outputId": "acd7512d-beec-423f-b5f9-ca2e71ac31e4"
   },
   "outputs": [
    {
     "data": {
      "text/plain": [
       "3    10722\n",
       "1     8428\n",
       "4     5997\n",
       "2     4165\n",
       "Name: Label, dtype: int64"
      ]
     },
     "execution_count": 5,
     "metadata": {},
     "output_type": "execute_result"
    }
   ],
   "source": [
    "train_set['Label'].value_counts()"
   ]
  },
  {
   "cell_type": "code",
   "execution_count": 6,
   "metadata": {
    "id": "d5SpkK76sl_1"
   },
   "outputs": [],
   "source": [
    "# in case you need to access separately\n",
    "\n",
    "X_train = train_set['Text']\n",
    "y_train = train_set['Label']\n",
    "\n",
    "X_val = valid_set['Text']\n",
    "y_val = valid_set['Label']\n",
    "\n",
    "X_test = test_set['Text']\n",
    "y_test = test_set['Label']"
   ]
  },
  {
   "cell_type": "markdown",
   "metadata": {
    "id": "rGggnPLap_AX"
   },
   "source": [
    "# Model\n",
    " * Multinomial Naive Bayes\n",
    " * Linear Support Vector Classifer\n",
    " * Logistic Regression\n",
    " * Simple Neural Network\n",
    " * LSTM"
   ]
  },
  {
   "cell_type": "markdown",
   "metadata": {
    "id": "yjobryyVqEQQ"
   },
   "source": [
    "## Steps\n",
    "\n",
    "Preprocessing \n",
    "\n",
    "Feature engineering (tfidf)\n",
    "\n",
    "Model training\n",
    "\n",
    "Prediction\n",
    "\n",
    "Evaluation\n",
    "\n",
    "Model save / load"
   ]
  },
  {
   "cell_type": "markdown",
   "metadata": {
    "id": "rowd-tjDGKlf"
   },
   "source": [
    "# Multinomial Naive Bayes Classifier"
   ]
  },
  {
   "cell_type": "markdown",
   "metadata": {
    "id": "CWC6_bCtqBx1"
   },
   "source": [
    "# Model Training"
   ]
  },
  {
   "cell_type": "code",
   "execution_count": 7,
   "metadata": {},
   "outputs": [],
   "source": [
    "def create_embedding_matrix(filepath, word_index, embedding_dim):\n",
    "    vocab_size = len(word_index) + 1  # Adding again 1 because of reserved 0 index\n",
    "    embedding_matrix = np.zeros((vocab_size, embedding_dim))\n",
    "\n",
    "    with open(filepath, encoding=\"utf8\") as f:\n",
    "        for line in f:\n",
    "            word, *vector = line.split()\n",
    "            if word in word_index:\n",
    "                idx = word_index[word]\n",
    "                embedding_matrix[idx] = np.array(vector, dtype=np.float32)[:embedding_dim]\n",
    "\n",
    "    return embedding_matrix\n",
    "\n",
    "def label_smoothing(y_true, y_pred):\n",
    "    \"\"\" smooth the label to boost the accuracy e.g. [0, 1, 0] -> [0.1, 0.8, 0.1] \"\"\"\n",
    "    return losses.categorical_crossentropy(y_true, y_pred, label_smoothing=0.1)\n",
    "\n",
    "def build_model(vocab_size, embedding_dim, embedding_matrix):\n",
    "    model = Sequential()\n",
    "    model.add(layers.Embedding(vocab_size, embedding_dim,\n",
    "                               weights=[embedding_matrix],\n",
    "                               input_length=MAXLEN,\n",
    "                               trainable=True))\n",
    "    model.add(layers.GlobalAvgPool1D())\n",
    "    model.add(layers.Dense(64, activation='relu'))\n",
    "    model.add(layers.Dense(4, activation='softmax'))\n",
    "    model.compile(optimizer=optimizers.Adamax(learning_rate=0.001),\n",
    "                  loss=label_smoothing,\n",
    "                  metrics=['accuracy'])\n",
    "    return model"
   ]
  },
  {
   "cell_type": "code",
   "execution_count": 8,
   "metadata": {
    "scrolled": false
   },
   "outputs": [],
   "source": [
    "tokenizer = Tokenizer(num_words=7000)\n",
    "tokenizer.fit_on_texts(X_train)\n",
    "\n",
    "X_train = tokenizer.texts_to_sequences(X_train)\n",
    "X_val = tokenizer.texts_to_sequences(X_val)\n",
    "X_test = tokenizer.texts_to_sequences(X_test)"
   ]
  },
  {
   "cell_type": "code",
   "execution_count": 9,
   "metadata": {},
   "outputs": [],
   "source": [
    "MAXLEN = 170\n",
    "\n",
    "X_train = pad_sequences(X_train, padding='post', maxlen=MAXLEN)\n",
    "X_val = pad_sequences(X_val, padding='post', maxlen=MAXLEN)\n",
    "X_test = pad_sequences(X_test, padding='post', maxlen=MAXLEN)"
   ]
  },
  {
   "cell_type": "code",
   "execution_count": 10,
   "metadata": {},
   "outputs": [],
   "source": [
    "embedding_dim = 200\n",
    "embedding_weight_file = os.path.join(\"glove.6B\", \"glove.6B.200d.txt\")\n",
    "embedding_matrix = create_embedding_matrix(embedding_weight_file, tokenizer.word_index, embedding_dim)"
   ]
  },
  {
   "cell_type": "code",
   "execution_count": 11,
   "metadata": {},
   "outputs": [],
   "source": [
    "encoder = preprocessing.LabelEncoder()\n",
    "encoded_y_train = encoder.fit_transform(y_train)\n",
    "encoded_y_val = encoder.transform(y_val)\n",
    "\n",
    "# convert integers to dummy variables (i.e. one hot encoded)\n",
    "dummy_y_train = to_categorical(encoded_y_train)\n",
    "dummy_y_val = to_categorical(encoded_y_val)"
   ]
  },
  {
   "cell_type": "code",
   "execution_count": 17,
   "metadata": {
    "id": "P-rdu7ybpk6U"
   },
   "outputs": [
    {
     "name": "stdout",
     "output_type": "stream",
     "text": [
      "Train on 29312 samples, validate on 9771 samples\n",
      "Epoch 1/40\n",
      "29312/29312 [==============================] - 8s 276us/sample - loss: 1.2595 - accuracy: 0.4892 - val_loss: 1.1320 - val_accuracy: 0.6543\n",
      "Epoch 2/40\n",
      "29312/29312 [==============================] - 7s 233us/sample - loss: 1.0333 - accuracy: 0.6938 - val_loss: 0.9304 - val_accuracy: 0.7347\n",
      "Epoch 3/40\n",
      "29312/29312 [==============================] - 7s 239us/sample - loss: 0.8596 - accuracy: 0.7678 - val_loss: 0.7922 - val_accuracy: 0.7992\n",
      "Epoch 4/40\n",
      "29312/29312 [==============================] - 7s 227us/sample - loss: 0.7481 - accuracy: 0.8195 - val_loss: 0.7094 - val_accuracy: 0.8435\n",
      "Epoch 5/40\n",
      "29312/29312 [==============================] - 7s 242us/sample - loss: 0.6798 - accuracy: 0.8542 - val_loss: 0.6561 - val_accuracy: 0.8645\n",
      "Epoch 6/40\n",
      "29312/29312 [==============================] - 7s 239us/sample - loss: 0.6329 - accuracy: 0.8753 - val_loss: 0.6182 - val_accuracy: 0.8849\n",
      "Epoch 7/40\n",
      "29312/29312 [==============================] - 7s 240us/sample - loss: 0.5995 - accuracy: 0.8924 - val_loss: 0.5925 - val_accuracy: 0.8949\n",
      "Epoch 8/40\n",
      "29312/29312 [==============================] - 7s 238us/sample - loss: 0.5754 - accuracy: 0.9034 - val_loss: 0.5725 - val_accuracy: 0.9049\n",
      "Epoch 9/40\n",
      "29312/29312 [==============================] - 7s 238us/sample - loss: 0.5564 - accuracy: 0.9141 - val_loss: 0.5569 - val_accuracy: 0.9099\n",
      "Epoch 10/40\n",
      "29312/29312 [==============================] - 7s 237us/sample - loss: 0.5411 - accuracy: 0.9211 - val_loss: 0.5445 - val_accuracy: 0.9186\n",
      "Epoch 11/40\n",
      "29312/29312 [==============================] - 7s 247us/sample - loss: 0.5284 - accuracy: 0.9270 - val_loss: 0.5345 - val_accuracy: 0.9247\n",
      "Epoch 12/40\n",
      "29312/29312 [==============================] - 7s 235us/sample - loss: 0.5175 - accuracy: 0.9345 - val_loss: 0.5257 - val_accuracy: 0.9306\n",
      "Epoch 13/40\n",
      "29312/29312 [==============================] - 7s 238us/sample - loss: 0.5082 - accuracy: 0.9391 - val_loss: 0.5176 - val_accuracy: 0.9348\n",
      "Epoch 14/40\n",
      "29312/29312 [==============================] - 7s 239us/sample - loss: 0.4998 - accuracy: 0.9442 - val_loss: 0.5108 - val_accuracy: 0.9386\n",
      "Epoch 15/40\n",
      "29312/29312 [==============================] - 7s 237us/sample - loss: 0.4922 - accuracy: 0.9483 - val_loss: 0.5044 - val_accuracy: 0.9420\n",
      "Epoch 16/40\n",
      "29312/29312 [==============================] - 7s 236us/sample - loss: 0.4855 - accuracy: 0.9526 - val_loss: 0.4994 - val_accuracy: 0.9422\n",
      "Epoch 17/40\n",
      "29312/29312 [==============================] - 7s 248us/sample - loss: 0.4798 - accuracy: 0.9555 - val_loss: 0.4955 - val_accuracy: 0.9473\n",
      "Epoch 18/40\n",
      "29312/29312 [==============================] - 7s 237us/sample - loss: 0.4748 - accuracy: 0.9587 - val_loss: 0.4915 - val_accuracy: 0.9471\n",
      "Epoch 19/40\n",
      "29312/29312 [==============================] - 7s 238us/sample - loss: 0.4703 - accuracy: 0.9611 - val_loss: 0.4878 - val_accuracy: 0.9496\n",
      "Epoch 20/40\n",
      "29312/29312 [==============================] - 7s 242us/sample - loss: 0.4660 - accuracy: 0.9634 - val_loss: 0.4844 - val_accuracy: 0.9508\n",
      "Epoch 21/40\n",
      "29312/29312 [==============================] - 7s 238us/sample - loss: 0.4622 - accuracy: 0.9653 - val_loss: 0.4820 - val_accuracy: 0.9518\n",
      "Epoch 22/40\n",
      "29312/29312 [==============================] - 7s 241us/sample - loss: 0.4587 - accuracy: 0.9677 - val_loss: 0.4792 - val_accuracy: 0.9542\n",
      "Epoch 23/40\n",
      "29312/29312 [==============================] - 7s 236us/sample - loss: 0.4553 - accuracy: 0.9689 - val_loss: 0.4769 - val_accuracy: 0.9545\n",
      "Epoch 24/40\n",
      "29312/29312 [==============================] - 7s 237us/sample - loss: 0.4519 - accuracy: 0.9705 - val_loss: 0.4744 - val_accuracy: 0.9557\n",
      "Epoch 25/40\n",
      "29312/29312 [==============================] - 7s 250us/sample - loss: 0.4491 - accuracy: 0.9727 - val_loss: 0.4725 - val_accuracy: 0.9564\n",
      "Epoch 26/40\n",
      "29312/29312 [==============================] - 7s 239us/sample - loss: 0.4464 - accuracy: 0.9734 - val_loss: 0.4711 - val_accuracy: 0.9563\n",
      "Epoch 27/40\n",
      "29312/29312 [==============================] - 7s 241us/sample - loss: 0.4439 - accuracy: 0.9745 - val_loss: 0.4699 - val_accuracy: 0.9569\n",
      "Epoch 28/40\n",
      "29312/29312 [==============================] - 7s 238us/sample - loss: 0.4414 - accuracy: 0.9757 - val_loss: 0.4690 - val_accuracy: 0.9560\n",
      "Epoch 29/40\n",
      "29312/29312 [==============================] - 7s 240us/sample - loss: 0.4392 - accuracy: 0.9765 - val_loss: 0.4671 - val_accuracy: 0.9577\n",
      "Epoch 30/40\n",
      "29312/29312 [==============================] - 7s 243us/sample - loss: 0.4371 - accuracy: 0.9775 - val_loss: 0.4653 - val_accuracy: 0.9592\n",
      "Epoch 31/40\n",
      "29312/29312 [==============================] - 7s 236us/sample - loss: 0.4352 - accuracy: 0.9790 - val_loss: 0.4639 - val_accuracy: 0.9598\n",
      "Epoch 32/40\n",
      "29312/29312 [==============================] - 7s 241us/sample - loss: 0.4330 - accuracy: 0.9794 - val_loss: 0.4637 - val_accuracy: 0.9593\n",
      "Epoch 33/40\n",
      "29312/29312 [==============================] - 7s 241us/sample - loss: 0.4313 - accuracy: 0.9807 - val_loss: 0.4628 - val_accuracy: 0.9621\n",
      "Epoch 34/40\n",
      "29312/29312 [==============================] - 7s 238us/sample - loss: 0.4296 - accuracy: 0.9817 - val_loss: 0.4619 - val_accuracy: 0.9600\n",
      "Epoch 35/40\n",
      "29312/29312 [==============================] - 7s 239us/sample - loss: 0.4278 - accuracy: 0.9823 - val_loss: 0.4604 - val_accuracy: 0.9608\n",
      "Epoch 36/40\n",
      "29312/29312 [==============================] - 7s 240us/sample - loss: 0.4262 - accuracy: 0.9830 - val_loss: 0.4608 - val_accuracy: 0.9605\n",
      "Epoch 37/40\n",
      "29312/29312 [==============================] - 7s 240us/sample - loss: 0.4247 - accuracy: 0.9835 - val_loss: 0.4603 - val_accuracy: 0.9604\n",
      "Epoch 38/40\n",
      "29312/29312 [==============================] - 7s 241us/sample - loss: 0.4231 - accuracy: 0.9838 - val_loss: 0.4581 - val_accuracy: 0.9613\n",
      "Epoch 39/40\n",
      "29312/29312 [==============================] - 7s 240us/sample - loss: 0.4217 - accuracy: 0.9848 - val_loss: 0.4580 - val_accuracy: 0.9620\n",
      "Epoch 40/40\n",
      "29312/29312 [==============================] - 7s 239us/sample - loss: 0.4202 - accuracy: 0.9848 - val_loss: 0.4574 - val_accuracy: 0.9615\n"
     ]
    }
   ],
   "source": [
    "vocab_size = len(tokenizer.word_index) + 1\n",
    "\n",
    "model = build_model(vocab_size, embedding_dim, embedding_matrix)\n",
    "history = model.fit(X_train, dummy_y_train,\n",
    "          epochs=40,\n",
    "          verbose=True,\n",
    "          validation_data=(X_val, dummy_y_val),\n",
    "          batch_size=512)"
   ]
  },
  {
   "cell_type": "code",
   "execution_count": 18,
   "metadata": {},
   "outputs": [],
   "source": [
    "def plot_history(history):\n",
    "    acc = history.history['accuracy']\n",
    "    val_acc = history.history['val_accuracy']\n",
    "    loss = history.history['loss']\n",
    "    val_loss = history.history['val_loss']\n",
    "    x = range(1, len(acc) + 1)\n",
    "\n",
    "    plt.figure(figsize=(12, 5))\n",
    "    plt.subplot(1, 2, 1)\n",
    "    plt.plot(x, acc, 'b', label='Training acc')\n",
    "    plt.plot(x, val_acc, 'r', label='Validation acc')\n",
    "    plt.title('Training and validation accuracy')\n",
    "    plt.legend()\n",
    "    plt.subplot(1, 2, 2)\n",
    "    plt.plot(x, loss, 'b', label='Training loss')\n",
    "    plt.plot(x, val_loss, 'r', label='Validation loss')\n",
    "    plt.title('Training and validation loss')\n",
    "    plt.legend()"
   ]
  },
  {
   "cell_type": "code",
   "execution_count": 19,
   "metadata": {},
   "outputs": [
    {
     "data": {
      "image/png": "[encoded data removed]",
      "text/plain": [
       "<Figure size 864x360 with 2 Axes>"
      ]
     },
     "metadata": {
      "needs_background": "light"
     },
     "output_type": "display_data"
    }
   ],
   "source": [
    "plot_history(history)"
   ]
  },
  {
   "cell_type": "markdown",
   "metadata": {
    "id": "M8R1rWgZvT3Y"
   },
   "source": [
    "## Model Evaluation"
   ]
  },
  {
   "cell_type": "markdown",
   "metadata": {
    "id": "eVe1r1mQnlDl"
   },
   "source": [
    "f1 score\n"
   ]
  },
  {
   "cell_type": "code",
   "execution_count": 23,
   "metadata": {},
   "outputs": [],
   "source": [
    "y_pred = model.predict(X_test).argmax(axis=1) + 1"
   ]
  },
  {
   "cell_type": "code",
   "execution_count": 24,
   "metadata": {
    "colab": {
     "base_uri": "https://localhost:8080/"
    },
    "id": "1S9XqkF6wax7",
    "outputId": "2346152d-d677-4906-8819-812c216db81b"
   },
   "outputs": [
    {
     "name": "stdout",
     "output_type": "stream",
     "text": [
      "              precision    recall  f1-score   support\n",
      "\n",
      "     class 0       0.95      0.97      0.96      2809\n",
      "     class 1       0.97      0.96      0.97      1389\n",
      "     class 2       0.96      0.98      0.97      3574\n",
      "     class 3       0.96      0.90      0.93      1999\n",
      "\n",
      "    accuracy                           0.96      9771\n",
      "   macro avg       0.96      0.95      0.96      9771\n",
      "weighted avg       0.96      0.96      0.96      9771\n",
      "\n"
     ]
    }
   ],
   "source": [
    "target_names = ['class 0', 'class 1', 'class 2', 'class 3']\n",
    "print(classification_report(y_test, y_pred, target_names=target_names))"
   ]
  },
  {
   "cell_type": "code",
   "execution_count": 25,
   "metadata": {
    "colab": {
     "base_uri": "https://localhost:8080/"
    },
    "id": "u488EaVXxZnL",
    "outputId": "b7a33276-63ca-4a06-f8cc-262dde4bbe28"
   },
   "outputs": [
    {
     "name": "stdout",
     "output_type": "stream",
     "text": [
      "[[2717   11   42   39]\n",
      " [   6 1337   37    9]\n",
      " [  18   21 3515   20]\n",
      " [ 114   10   67 1808]]\n"
     ]
    }
   ],
   "source": [
    "conf_mat = confusion_matrix(y_test, y_pred)\n",
    "print(conf_mat)"
   ]
  },
  {
   "cell_type": "code",
   "execution_count": 26,
   "metadata": {
    "colab": {
     "base_uri": "https://localhost:8080/",
     "height": 363
    },
    "id": "S7DbYrtKxRMI",
    "outputId": "cf2c5f53-2e71-476b-f500-73ae465a3013"
   },
   "outputs": [
    {
     "data": {
      "image/png": "[encoded data removed]",
      "text/plain": [
       "<Figure size 432x432 with 2 Axes>"
      ]
     },
     "metadata": {},
     "output_type": "display_data"
    }
   ],
   "source": [
    "with plt.style.context(('ggplot', 'seaborn')):\n",
    "    fig = plt.figure(figsize=(6,6), num=1)\n",
    "    plt.imshow(conf_mat, interpolation='nearest',cmap= plt.cm.Blues )\n",
    "    plt.xticks([0,1,2,3],['class 1', 'class 2', 'class 3', 'class 4'])\n",
    "    plt.yticks([0,1,2,3],['class 1', 'class 2', 'class 3', 'class 4'])\n",
    "    plt.xlabel('Predicted Label')\n",
    "    plt.ylabel('Actual Label')\n",
    "    for i, j in itertools.product(range(conf_mat.shape[0]), range(conf_mat.shape[1])):\n",
    "                plt.text(j, i,conf_mat[i, j], horizontalalignment=\"center\",color=\"red\")\n",
    "    plt.grid(None)\n",
    "    plt.title('Confusion Matrix')\n",
    "    plt.colorbar();"
   ]
  },
  {
   "cell_type": "markdown",
   "metadata": {
    "id": "o5siXP2wwz5W"
   },
   "source": [
    "auc-roc\n"
   ]
  },
  {
   "cell_type": "code",
   "execution_count": 31,
   "metadata": {},
   "outputs": [],
   "source": [
    "y_test_pred_softmax = model.predict_proba(X_test)"
   ]
  },
  {
   "cell_type": "code",
   "execution_count": 32,
   "metadata": {
    "id": "yd3JC_BJFpZT"
   },
   "outputs": [],
   "source": [
    "from sklearn.metrics import roc_curve, auc"
   ]
  },
  {
   "cell_type": "code",
   "execution_count": 33,
   "metadata": {
    "id": "18-Q-eXyJFp2"
   },
   "outputs": [],
   "source": [
    "from sklearn.preprocessing import label_binarize\n",
    "\n",
    "Y_test = label_binarize(y_test, classes=[1, 2, 3, 4])"
   ]
  },
  {
   "cell_type": "code",
   "execution_count": 34,
   "metadata": {
    "id": "qefrxiCJFS6f"
   },
   "outputs": [],
   "source": [
    "n_classes = len(df['Label'].unique())\n",
    "\n",
    "# Compute ROC curve and ROC area for each class\n",
    "fpr = dict()\n",
    "tpr = dict()\n",
    "roc_auc = dict()\n",
    "for i in range(n_classes):\n",
    "    fpr[i], tpr[i], _ = roc_curve(Y_test[:, i], y_test_pred_softmax[:, i])\n",
    "    roc_auc[i] = auc(fpr[i], tpr[i])\n",
    "\n",
    "# Compute micro-average ROC curve and ROC area\n",
    "fpr[\"micro\"], tpr[\"micro\"], _ = roc_curve(Y_test.ravel(), y_test_pred_softmax.ravel())\n",
    "roc_auc[\"micro\"] = auc(fpr[\"micro\"], tpr[\"micro\"])"
   ]
  },
  {
   "cell_type": "code",
   "execution_count": 35,
   "metadata": {
    "colab": {
     "base_uri": "https://localhost:8080/",
     "height": 295
    },
    "id": "sjcffgklDQ8m",
    "outputId": "b62b4cd5-cb42-4b4f-e665-a1cb36ae2e92"
   },
   "outputs": [
    {
     "data": {
      "image/png": "[encoded data removed]",
      "text/plain": [
       "<Figure size 432x288 with 1 Axes>"
      ]
     },
     "metadata": {
      "needs_background": "light"
     },
     "output_type": "display_data"
    }
   ],
   "source": [
    "from itertools import cycle\n",
    "lw = 2\n",
    "\n",
    "# First aggregate all false positive rates\n",
    "all_fpr = np.unique(np.concatenate([fpr[i] for i in range(n_classes)]))\n",
    "\n",
    "# Then interpolate all ROC curves at this points\n",
    "mean_tpr = np.zeros_like(all_fpr)\n",
    "for i in range(n_classes):\n",
    "    mean_tpr += np.interp(all_fpr, fpr[i], tpr[i])\n",
    "\n",
    "# Finally average it and compute AUC\n",
    "mean_tpr /= n_classes\n",
    "\n",
    "fpr[\"macro\"] = all_fpr\n",
    "tpr[\"macro\"] = mean_tpr\n",
    "roc_auc[\"macro\"] = auc(fpr[\"macro\"], tpr[\"macro\"])\n",
    "\n",
    "# Plot all ROC curves\n",
    "plt.figure()\n",
    "plt.plot(\n",
    "    fpr[\"micro\"],\n",
    "    tpr[\"micro\"],\n",
    "    label=\"micro-average ROC curve (area = {0:0.2f})\".format(roc_auc[\"micro\"]),\n",
    "    color=\"deeppink\",\n",
    "    linestyle=\":\",\n",
    "    linewidth=4,\n",
    ")\n",
    "\n",
    "plt.plot(\n",
    "    fpr[\"macro\"],\n",
    "    tpr[\"macro\"],\n",
    "    label=\"macro-average ROC curve (area = {0:0.2f})\".format(roc_auc[\"macro\"]),\n",
    "    color=\"navy\",\n",
    "    linestyle=\":\",\n",
    "    linewidth=4,\n",
    ")\n",
    "\n",
    "colors = cycle([\"aqua\", \"darkorange\", \"cornflowerblue\"])\n",
    "for i, color in zip(range(n_classes), colors):\n",
    "    plt.plot(\n",
    "        fpr[i],\n",
    "        tpr[i],\n",
    "        color=color,\n",
    "        lw=lw,\n",
    "        label=\"ROC curve of class {0} (area = {1:0.2f})\".format(i, roc_auc[i]),\n",
    "    )\n",
    "\n",
    "plt.plot([0, 1], [0, 1], \"k--\", lw=lw)\n",
    "plt.xlim([0.0, 1.0])\n",
    "plt.ylim([0.0, 1.05])\n",
    "plt.xlabel(\"False Positive Rate\")\n",
    "plt.ylabel(\"True Positive Rate\")\n",
    "plt.title(\"Some extension of Receiver operating characteristic to multiclass\")\n",
    "plt.legend(loc=\"lower right\")\n",
    "plt.show()\n"
   ]
  },
  {
   "cell_type": "code",
   "execution_count": null,
   "metadata": {
    "colab": {
     "base_uri": "https://localhost:8080/"
    },
    "id": "hlP7scHwP3GX",
    "outputId": "b0744707-2509-4356-fe73-203117d7af95"
   },
   "outputs": [],
   "source": [
    "from sklearn.metrics import roc_auc_score\n",
    "roc_auc = roc_auc_score(Y_test, y_test_pred_softmax, multi_class='ovr')\n",
    "print(f\"ROC_AUC score is {roc_auc}\")"
   ]
  },
  {
   "cell_type": "code",
   "execution_count": null,
   "metadata": {
    "id": "l8nqfxSOQuas"
   },
   "outputs": [],
   "source": []
  }
 ],
 "metadata": {
  "colab": {
   "collapsed_sections": [],
   "name": "28/03 OFFICIAL TRANSCRIPT.ipynb",
   "provenance": []
  },
  "kernelspec": {
   "display_name": "Python 3",
   "language": "python",
   "name": "python3"
  },
  "language_info": {
   "codemirror_mode": {
    "name": "ipython",
    "version": 3
   },
   "file_extension": ".py",
   "mimetype": "text/x-python",
   "name": "python",
   "nbconvert_exporter": "python",
   "pygments_lexer": "ipython3",
   "version": "3.6.13"
  }
 },
 "nbformat": 4,
 "nbformat_minor": 1
}
